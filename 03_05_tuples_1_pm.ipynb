{
 "cells": [
  {
   "cell_type": "markdown",
   "id": "67d3559c-3ffb-4a71-bf32-1581c3990f61",
   "metadata": {},
   "source": [
    "# Tuple :\n",
    "* it is also a collection of elements but is is used for read only purposes\n",
    "* tuple is immuatable (Not changeable) in nature\n",
    "* Indexing and slicing is also possible"
   ]
  },
  {
   "cell_type": "code",
   "execution_count": null,
   "id": "3f10c974-596a-4314-9689-a0bee1ec7d75",
   "metadata": {},
   "outputs": [],
   "source": []
  },
  {
   "cell_type": "code",
   "execution_count": 4,
   "id": "e9e3fd8b-5102-4d88-b814-ac51caebfa63",
   "metadata": {},
   "outputs": [],
   "source": [
    "a = \"python is fun\""
   ]
  },
  {
   "cell_type": "code",
   "execution_count": 5,
   "id": "ddc64871-a29c-4bb7-9fc9-a4ed932f2f8a",
   "metadata": {},
   "outputs": [
    {
     "data": {
      "text/plain": [
       "str"
      ]
     },
     "execution_count": 5,
     "metadata": {},
     "output_type": "execute_result"
    }
   ],
   "source": [
    "type(a)"
   ]
  },
  {
   "cell_type": "code",
   "execution_count": null,
   "id": "924c0c32-c808-4541-9a82-57d7be009712",
   "metadata": {},
   "outputs": [],
   "source": []
  },
  {
   "cell_type": "code",
   "execution_count": 6,
   "id": "b0dbd08f-e855-4bf5-97b8-7fdc6cdfcdbe",
   "metadata": {},
   "outputs": [],
   "source": [
    "b = [10, 20, 30, 40]"
   ]
  },
  {
   "cell_type": "code",
   "execution_count": 7,
   "id": "fa921431-1d80-418f-bdc9-745a57341c11",
   "metadata": {},
   "outputs": [
    {
     "data": {
      "text/plain": [
       "list"
      ]
     },
     "execution_count": 7,
     "metadata": {},
     "output_type": "execute_result"
    }
   ],
   "source": [
    "type(b)"
   ]
  },
  {
   "cell_type": "code",
   "execution_count": null,
   "id": "8f34c142-4592-4ac5-a3c2-aca0fe7dbc73",
   "metadata": {},
   "outputs": [],
   "source": []
  },
  {
   "cell_type": "code",
   "execution_count": 9,
   "id": "da5bf52c-5119-4a4d-9101-1a2cbe62b778",
   "metadata": {},
   "outputs": [],
   "source": [
    "n = (78, 96, 12)"
   ]
  },
  {
   "cell_type": "code",
   "execution_count": 10,
   "id": "ab31160a-1ff4-4b62-a838-36449be39ab7",
   "metadata": {},
   "outputs": [
    {
     "data": {
      "text/plain": [
       "tuple"
      ]
     },
     "execution_count": 10,
     "metadata": {},
     "output_type": "execute_result"
    }
   ],
   "source": [
    "type(n)"
   ]
  },
  {
   "cell_type": "code",
   "execution_count": 11,
   "id": "a40391ee-b083-4528-bb35-25ffff81ac64",
   "metadata": {},
   "outputs": [],
   "source": [
    "c = tuple()"
   ]
  },
  {
   "cell_type": "code",
   "execution_count": 12,
   "id": "0ad71ecb-407a-4451-be58-51188433dd37",
   "metadata": {},
   "outputs": [
    {
     "data": {
      "text/plain": [
       "tuple"
      ]
     },
     "execution_count": 12,
     "metadata": {},
     "output_type": "execute_result"
    }
   ],
   "source": [
    "type(c)"
   ]
  },
  {
   "cell_type": "code",
   "execution_count": null,
   "id": "219da5a0-69b3-45c6-a9cc-7c054a824c72",
   "metadata": {},
   "outputs": [],
   "source": []
  },
  {
   "cell_type": "code",
   "execution_count": 16,
   "id": "9ae68aa3-9779-40db-92e8-8cab1bfe7994",
   "metadata": {},
   "outputs": [],
   "source": [
    "p = (12, 56,  \"computer\")"
   ]
  },
  {
   "cell_type": "code",
   "execution_count": 17,
   "id": "b3df772d-7894-4a16-9d94-071fac77d0d9",
   "metadata": {},
   "outputs": [
    {
     "data": {
      "text/plain": [
       "tuple"
      ]
     },
     "execution_count": 17,
     "metadata": {},
     "output_type": "execute_result"
    }
   ],
   "source": [
    "type(p)"
   ]
  },
  {
   "cell_type": "code",
   "execution_count": 13,
   "id": "f2b09dd9-d11e-4735-9f16-86b56fce9f22",
   "metadata": {},
   "outputs": [],
   "source": [
    "v = (12)"
   ]
  },
  {
   "cell_type": "code",
   "execution_count": 14,
   "id": "3c23cb95-e6a6-4f40-b6e0-f9063b9b4698",
   "metadata": {},
   "outputs": [
    {
     "data": {
      "text/plain": [
       "int"
      ]
     },
     "execution_count": 14,
     "metadata": {},
     "output_type": "execute_result"
    }
   ],
   "source": [
    "type(v)"
   ]
  },
  {
   "cell_type": "code",
   "execution_count": 18,
   "id": "37934777-cc0a-44a3-97d8-f4e22404ce6c",
   "metadata": {},
   "outputs": [],
   "source": [
    "z = (\"data\")"
   ]
  },
  {
   "cell_type": "code",
   "execution_count": 19,
   "id": "6190bc52-4186-418d-8cdf-eeb62c4f176a",
   "metadata": {},
   "outputs": [
    {
     "data": {
      "text/plain": [
       "str"
      ]
     },
     "execution_count": 19,
     "metadata": {},
     "output_type": "execute_result"
    }
   ],
   "source": [
    "type(z)"
   ]
  },
  {
   "cell_type": "code",
   "execution_count": null,
   "id": "e7e3397c-3054-4e93-865e-73c81307b0d1",
   "metadata": {},
   "outputs": [],
   "source": []
  },
  {
   "cell_type": "code",
   "execution_count": 20,
   "id": "d860c370-6e07-4be4-b2ea-e92ec61efefa",
   "metadata": {},
   "outputs": [],
   "source": [
    "# for writing tuple paraenthisis  is not important, only comma is important"
   ]
  },
  {
   "cell_type": "code",
   "execution_count": null,
   "id": "42cd8326-84ec-4e52-b44d-e7b1ed96118b",
   "metadata": {},
   "outputs": [],
   "source": []
  },
  {
   "cell_type": "code",
   "execution_count": 21,
   "id": "3ca43af0-ca89-4e71-a8cc-7d31400a9c3a",
   "metadata": {},
   "outputs": [],
   "source": [
    "g  = (16,)"
   ]
  },
  {
   "cell_type": "code",
   "execution_count": 22,
   "id": "434110f3-28cb-4245-9e6d-79949232028e",
   "metadata": {},
   "outputs": [
    {
     "data": {
      "text/plain": [
       "tuple"
      ]
     },
     "execution_count": 22,
     "metadata": {},
     "output_type": "execute_result"
    }
   ],
   "source": [
    "type(g)"
   ]
  },
  {
   "cell_type": "code",
   "execution_count": 23,
   "id": "e55237fe-09a2-4c0c-aa58-982cd631671f",
   "metadata": {},
   "outputs": [],
   "source": [
    "z = (\"data\",)"
   ]
  },
  {
   "cell_type": "code",
   "execution_count": 24,
   "id": "94b81564-7771-4c12-9cd3-15a8a50969bd",
   "metadata": {},
   "outputs": [
    {
     "data": {
      "text/plain": [
       "tuple"
      ]
     },
     "execution_count": 24,
     "metadata": {},
     "output_type": "execute_result"
    }
   ],
   "source": [
    "type(z)"
   ]
  },
  {
   "cell_type": "code",
   "execution_count": null,
   "id": "bfd963c3-423c-4e78-b441-010627b3eba8",
   "metadata": {},
   "outputs": [],
   "source": []
  },
  {
   "cell_type": "code",
   "execution_count": 25,
   "id": "f8c2c145-0807-4ebf-90af-e8b187da1414",
   "metadata": {},
   "outputs": [],
   "source": [
    "w = 12, 23, 25, 36"
   ]
  },
  {
   "cell_type": "code",
   "execution_count": 26,
   "id": "86ebac93-3632-407d-bb41-77ae744bf5de",
   "metadata": {},
   "outputs": [
    {
     "data": {
      "text/plain": [
       "tuple"
      ]
     },
     "execution_count": 26,
     "metadata": {},
     "output_type": "execute_result"
    }
   ],
   "source": [
    "type(w)"
   ]
  },
  {
   "cell_type": "code",
   "execution_count": 27,
   "id": "41c91518-e3fd-487b-8530-bd4c7b996f8d",
   "metadata": {},
   "outputs": [],
   "source": [
    "w = (1,12, 23, 25, 36)"
   ]
  },
  {
   "cell_type": "code",
   "execution_count": 28,
   "id": "2c4694a5-e5d9-4734-99f1-0a3938173134",
   "metadata": {},
   "outputs": [
    {
     "data": {
      "text/plain": [
       "tuple"
      ]
     },
     "execution_count": 28,
     "metadata": {},
     "output_type": "execute_result"
    }
   ],
   "source": [
    "type(w)"
   ]
  },
  {
   "cell_type": "code",
   "execution_count": null,
   "id": "69530aba-72d1-4633-9fbe-e851e8d5384c",
   "metadata": {},
   "outputs": [],
   "source": []
  },
  {
   "cell_type": "code",
   "execution_count": 31,
   "id": "2402b8c2-810b-44bf-9039-e8966c1d84fd",
   "metadata": {},
   "outputs": [],
   "source": [
    "x = (14, 15, 16, 17, 18, 19, 56, 89, 10, 30, 25,25,60)"
   ]
  },
  {
   "cell_type": "code",
   "execution_count": 32,
   "id": "c5534abc-6c80-4456-9bca-5d3f73eee443",
   "metadata": {},
   "outputs": [
    {
     "data": {
      "text/plain": [
       "tuple"
      ]
     },
     "execution_count": 32,
     "metadata": {},
     "output_type": "execute_result"
    }
   ],
   "source": [
    "type(x)"
   ]
  },
  {
   "cell_type": "code",
   "execution_count": 33,
   "id": "8795dcac-bfd2-4fb6-8caa-e43487b5fced",
   "metadata": {},
   "outputs": [
    {
     "data": {
      "text/plain": [
       "14"
      ]
     },
     "execution_count": 33,
     "metadata": {},
     "output_type": "execute_result"
    }
   ],
   "source": [
    "x[0]"
   ]
  },
  {
   "cell_type": "code",
   "execution_count": 34,
   "id": "db63d90b-e5a4-4b5b-9eb6-c82c05992d2c",
   "metadata": {},
   "outputs": [
    {
     "data": {
      "text/plain": [
       "(14, 15, 16, 17, 18, 19, 56, 89, 10, 30, 25, 25, 60)"
      ]
     },
     "execution_count": 34,
     "metadata": {},
     "output_type": "execute_result"
    }
   ],
   "source": [
    "x"
   ]
  },
  {
   "cell_type": "code",
   "execution_count": 35,
   "id": "b0e6503c-7145-452d-bc22-0bc97d0ac604",
   "metadata": {},
   "outputs": [
    {
     "data": {
      "text/plain": [
       "16"
      ]
     },
     "execution_count": 35,
     "metadata": {},
     "output_type": "execute_result"
    }
   ],
   "source": [
    "x[2]"
   ]
  },
  {
   "cell_type": "code",
   "execution_count": 36,
   "id": "d1f6f0c4-bdc5-4733-8f67-eab9fe048094",
   "metadata": {},
   "outputs": [
    {
     "data": {
      "text/plain": [
       "60"
      ]
     },
     "execution_count": 36,
     "metadata": {},
     "output_type": "execute_result"
    }
   ],
   "source": [
    "x[-1]"
   ]
  },
  {
   "cell_type": "code",
   "execution_count": 37,
   "id": "8b903216-762c-4e2a-b62e-09ac85f5b16c",
   "metadata": {},
   "outputs": [
    {
     "data": {
      "text/plain": [
       "(14, 15, 16, 17, 18, 19, 56, 89, 10, 30, 25, 25, 60)"
      ]
     },
     "execution_count": 37,
     "metadata": {},
     "output_type": "execute_result"
    }
   ],
   "source": [
    "x"
   ]
  },
  {
   "cell_type": "code",
   "execution_count": 38,
   "id": "883b667e-c967-4e24-b3aa-2cb65acf1062",
   "metadata": {},
   "outputs": [
    {
     "data": {
      "text/plain": [
       "13"
      ]
     },
     "execution_count": 38,
     "metadata": {},
     "output_type": "execute_result"
    }
   ],
   "source": [
    "len(x)"
   ]
  },
  {
   "cell_type": "code",
   "execution_count": 40,
   "id": "a88e9914-b34d-45f6-b41a-334911723f96",
   "metadata": {},
   "outputs": [
    {
     "data": {
      "text/plain": [
       "(14, 15, 16, 17, 18, 19, 56, 89, 10, 30, 25, 25, 60)"
      ]
     },
     "execution_count": 40,
     "metadata": {},
     "output_type": "execute_result"
    }
   ],
   "source": [
    "x"
   ]
  },
  {
   "cell_type": "code",
   "execution_count": 42,
   "id": "5f34eff9-1ac2-48e0-832a-ab8f552bb429",
   "metadata": {},
   "outputs": [
    {
     "data": {
      "text/plain": [
       "(15, 16, 17, 18)"
      ]
     },
     "execution_count": 42,
     "metadata": {},
     "output_type": "execute_result"
    }
   ],
   "source": [
    "x[1:5]"
   ]
  },
  {
   "cell_type": "code",
   "execution_count": 44,
   "id": "14ed61c1-97a3-4d81-b448-60463bbc3d08",
   "metadata": {},
   "outputs": [
    {
     "data": {
      "text/plain": [
       "(17, 18, 19, 56, 89, 10)"
      ]
     },
     "execution_count": 44,
     "metadata": {},
     "output_type": "execute_result"
    }
   ],
   "source": [
    "x[3:9]"
   ]
  },
  {
   "cell_type": "code",
   "execution_count": 45,
   "id": "a346b5cd-d87d-41fd-8b4a-3936ca440993",
   "metadata": {},
   "outputs": [
    {
     "data": {
      "text/plain": [
       "(14, 15, 16, 17, 18, 19, 56, 89, 10, 30, 25, 25, 60)"
      ]
     },
     "execution_count": 45,
     "metadata": {},
     "output_type": "execute_result"
    }
   ],
   "source": [
    "x"
   ]
  },
  {
   "cell_type": "code",
   "execution_count": 47,
   "id": "aa200da0-cfc5-4499-8965-edfdbe29d0cf",
   "metadata": {},
   "outputs": [
    {
     "data": {
      "text/plain": [
       "(25, 25, 30, 10, 89)"
      ]
     },
     "execution_count": 47,
     "metadata": {},
     "output_type": "execute_result"
    }
   ],
   "source": [
    "x[-2:-7:-1]"
   ]
  },
  {
   "cell_type": "code",
   "execution_count": 49,
   "id": "a97a1dae-b9fc-492e-b4ed-4c6fbefcdf05",
   "metadata": {},
   "outputs": [
    {
     "data": {
      "text/plain": [
       "(60, 25, 25, 30, 10, 89, 56, 19, 18, 17, 16, 15, 14)"
      ]
     },
     "execution_count": 49,
     "metadata": {},
     "output_type": "execute_result"
    }
   ],
   "source": [
    "x[::-1]"
   ]
  },
  {
   "cell_type": "code",
   "execution_count": 50,
   "id": "33f8a9d7-427b-41a3-9148-4233f999b021",
   "metadata": {},
   "outputs": [
    {
     "data": {
      "text/plain": [
       "(14, 15, 16, 17, 18, 19, 56, 89, 10, 30, 25, 25, 60)"
      ]
     },
     "execution_count": 50,
     "metadata": {},
     "output_type": "execute_result"
    }
   ],
   "source": [
    "x"
   ]
  },
  {
   "cell_type": "code",
   "execution_count": null,
   "id": "71dbcb1d-0228-479b-9321-f91d8e1e0a1a",
   "metadata": {},
   "outputs": [],
   "source": []
  },
  {
   "cell_type": "code",
   "execution_count": 51,
   "id": "01a26a17-2728-41a4-8cf2-94b7ba72c077",
   "metadata": {},
   "outputs": [
    {
     "data": {
      "text/plain": [
       "(14, 15, 16, 17, 18, 19, 56, 89, 10, 30, 25, 25, 60)"
      ]
     },
     "execution_count": 51,
     "metadata": {},
     "output_type": "execute_result"
    }
   ],
   "source": [
    "x"
   ]
  },
  {
   "cell_type": "code",
   "execution_count": null,
   "id": "598d1db2-77f7-4285-8bad-4c85344a9e0b",
   "metadata": {},
   "outputs": [],
   "source": []
  },
  {
   "cell_type": "code",
   "execution_count": 52,
   "id": "93aa5654-c532-4f7c-8a45-5278f825ca84",
   "metadata": {},
   "outputs": [
    {
     "data": {
      "text/plain": [
       "[10, 20, 30, 40]"
      ]
     },
     "execution_count": 52,
     "metadata": {},
     "output_type": "execute_result"
    }
   ],
   "source": [
    "b"
   ]
  },
  {
   "cell_type": "code",
   "execution_count": 54,
   "id": "23750e19-419d-4edd-b003-2ff1a6ab5720",
   "metadata": {},
   "outputs": [],
   "source": [
    "b[1] = 50"
   ]
  },
  {
   "cell_type": "code",
   "execution_count": 55,
   "id": "128536de-14ea-490f-b319-b07cebdcb034",
   "metadata": {},
   "outputs": [
    {
     "data": {
      "text/plain": [
       "[10, 50, 30, 40]"
      ]
     },
     "execution_count": 55,
     "metadata": {},
     "output_type": "execute_result"
    }
   ],
   "source": [
    "b"
   ]
  },
  {
   "cell_type": "code",
   "execution_count": 57,
   "id": "38dffc1e-8a08-460c-b884-cea91654c8a4",
   "metadata": {},
   "outputs": [],
   "source": [
    "b[-2] = 260"
   ]
  },
  {
   "cell_type": "code",
   "execution_count": 58,
   "id": "5ef54c03-0bc1-4511-b364-001fc2c8f0a9",
   "metadata": {},
   "outputs": [
    {
     "data": {
      "text/plain": [
       "[10, 50, 260, 40]"
      ]
     },
     "execution_count": 58,
     "metadata": {},
     "output_type": "execute_result"
    }
   ],
   "source": [
    "b"
   ]
  },
  {
   "cell_type": "code",
   "execution_count": 61,
   "id": "606c3508-7ef1-4096-b0fb-028267959e54",
   "metadata": {},
   "outputs": [
    {
     "ename": "TypeError",
     "evalue": "'tuple' object does not support item assignment",
     "output_type": "error",
     "traceback": [
      "\u001b[1;31m---------------------------------------------------------------------------\u001b[0m",
      "\u001b[1;31mTypeError\u001b[0m                                 Traceback (most recent call last)",
      "Cell \u001b[1;32mIn[61], line 1\u001b[0m\n\u001b[1;32m----> 1\u001b[0m x[\u001b[38;5;241m2\u001b[39m] \u001b[38;5;241m=\u001b[39m \u001b[38;5;241m90\u001b[39m\n",
      "\u001b[1;31mTypeError\u001b[0m: 'tuple' object does not support item assignment"
     ]
    }
   ],
   "source": [
    "x[2] = 90 "
   ]
  },
  {
   "cell_type": "code",
   "execution_count": 65,
   "id": "8a82c10c-3dde-414c-b3f8-8d87f26bdb2b",
   "metadata": {},
   "outputs": [
    {
     "ename": "TypeError",
     "evalue": "'tuple' object does not support item assignment",
     "output_type": "error",
     "traceback": [
      "\u001b[1;31m---------------------------------------------------------------------------\u001b[0m",
      "\u001b[1;31mTypeError\u001b[0m                                 Traceback (most recent call last)",
      "Cell \u001b[1;32mIn[65], line 1\u001b[0m\n\u001b[1;32m----> 1\u001b[0m x[\u001b[38;5;241m-\u001b[39m\u001b[38;5;241m1\u001b[39m] \u001b[38;5;241m=\u001b[39m \u001b[38;5;241m250\u001b[39m\n",
      "\u001b[1;31mTypeError\u001b[0m: 'tuple' object does not support item assignment"
     ]
    }
   ],
   "source": [
    "x[-1] = 250"
   ]
  },
  {
   "cell_type": "code",
   "execution_count": 67,
   "id": "274a0c60-0d4a-4202-9058-9e93579165b9",
   "metadata": {},
   "outputs": [],
   "source": [
    "# methods"
   ]
  },
  {
   "cell_type": "code",
   "execution_count": 68,
   "id": "b2fdbc59-d1e2-455d-a482-dbcdc9307680",
   "metadata": {},
   "outputs": [
    {
     "data": {
      "text/plain": [
       "(14, 15, 16, 17, 18, 19, 56, 89, 10, 30, 25, 25, 60)"
      ]
     },
     "execution_count": 68,
     "metadata": {},
     "output_type": "execute_result"
    }
   ],
   "source": [
    "x"
   ]
  },
  {
   "cell_type": "code",
   "execution_count": 74,
   "id": "def6aa05-b687-4e52-a9a7-4f5acb149a6c",
   "metadata": {},
   "outputs": [
    {
     "data": {
      "text/plain": [
       "2"
      ]
     },
     "execution_count": 74,
     "metadata": {},
     "output_type": "execute_result"
    }
   ],
   "source": [
    "x.index(16) #Return first index/position of value."
   ]
  },
  {
   "cell_type": "code",
   "execution_count": 73,
   "id": "3b308818-9238-4a3d-8192-712232a6e67f",
   "metadata": {},
   "outputs": [
    {
     "data": {
      "text/plain": [
       "4"
      ]
     },
     "execution_count": 73,
     "metadata": {},
     "output_type": "execute_result"
    }
   ],
   "source": [
    "x.index(18)"
   ]
  },
  {
   "cell_type": "code",
   "execution_count": 71,
   "id": "2f399742-7e7d-46ef-991c-d64366faf991",
   "metadata": {},
   "outputs": [
    {
     "data": {
      "text/plain": [
       "6"
      ]
     },
     "execution_count": 71,
     "metadata": {},
     "output_type": "execute_result"
    }
   ],
   "source": [
    "x.index(56)"
   ]
  },
  {
   "cell_type": "code",
   "execution_count": null,
   "id": "96bbb7d7-f517-43c2-8629-fdccc74f6b02",
   "metadata": {},
   "outputs": [],
   "source": []
  },
  {
   "cell_type": "code",
   "execution_count": 75,
   "id": "66d2e3f7-fd74-45bb-a477-6d58fd9247f6",
   "metadata": {},
   "outputs": [],
   "source": [
    "r = (10, 15, 16, 4, 8, 15, 2, 6, 7, 9, 15 )"
   ]
  },
  {
   "cell_type": "code",
   "execution_count": 77,
   "id": "2ad26899-23eb-43f5-9798-9fd602ed047e",
   "metadata": {},
   "outputs": [
    {
     "data": {
      "text/plain": [
       "5"
      ]
     },
     "execution_count": 77,
     "metadata": {},
     "output_type": "execute_result"
    }
   ],
   "source": [
    "r.index(15, 2)"
   ]
  },
  {
   "cell_type": "code",
   "execution_count": 78,
   "id": "e07f5e3d-6b7e-4adf-b939-dee35878db4f",
   "metadata": {},
   "outputs": [
    {
     "data": {
      "text/plain": [
       "10"
      ]
     },
     "execution_count": 78,
     "metadata": {},
     "output_type": "execute_result"
    }
   ],
   "source": [
    "r.index(15, 6)"
   ]
  },
  {
   "cell_type": "code",
   "execution_count": null,
   "id": "268c15ef-365a-4d9c-89ea-4e0f5b624538",
   "metadata": {},
   "outputs": [],
   "source": []
  },
  {
   "cell_type": "code",
   "execution_count": 79,
   "id": "36cfa4f5-a2a2-4898-a145-fb386b0d91b9",
   "metadata": {},
   "outputs": [
    {
     "data": {
      "text/plain": [
       "(14, 15, 16, 17, 18, 19, 56, 89, 10, 30, 25, 25, 60)"
      ]
     },
     "execution_count": 79,
     "metadata": {},
     "output_type": "execute_result"
    }
   ],
   "source": [
    "x"
   ]
  },
  {
   "cell_type": "code",
   "execution_count": 80,
   "id": "6051f944-6c16-4220-89e0-35afe6e0974a",
   "metadata": {},
   "outputs": [
    {
     "data": {
      "text/plain": [
       "2"
      ]
     },
     "execution_count": 80,
     "metadata": {},
     "output_type": "execute_result"
    }
   ],
   "source": [
    "x.count(25)"
   ]
  },
  {
   "cell_type": "code",
   "execution_count": 81,
   "id": "a1fdadbf-e563-4338-ae58-97c7096e257b",
   "metadata": {},
   "outputs": [
    {
     "data": {
      "text/plain": [
       "(10, 15, 16, 4, 8, 15, 2, 6, 7, 9, 15)"
      ]
     },
     "execution_count": 81,
     "metadata": {},
     "output_type": "execute_result"
    }
   ],
   "source": [
    "r"
   ]
  },
  {
   "cell_type": "code",
   "execution_count": 82,
   "id": "c16af07f-962c-4496-a12a-3ddc287c428c",
   "metadata": {},
   "outputs": [
    {
     "data": {
      "text/plain": [
       "3"
      ]
     },
     "execution_count": 82,
     "metadata": {},
     "output_type": "execute_result"
    }
   ],
   "source": [
    "r.count(15)"
   ]
  },
  {
   "cell_type": "code",
   "execution_count": null,
   "id": "3af9e42b-6bc4-4478-94ca-522bd800950a",
   "metadata": {},
   "outputs": [],
   "source": []
  },
  {
   "cell_type": "code",
   "execution_count": 83,
   "id": "63d6b0dd-fbe2-40df-ade5-1e2d5aa8badf",
   "metadata": {},
   "outputs": [],
   "source": [
    "# membership "
   ]
  },
  {
   "cell_type": "code",
   "execution_count": 84,
   "id": "718eb291-3daf-46c8-a26c-faa9b600d741",
   "metadata": {},
   "outputs": [
    {
     "data": {
      "text/plain": [
       "(14, 15, 16, 17, 18, 19, 56, 89, 10, 30, 25, 25, 60)"
      ]
     },
     "execution_count": 84,
     "metadata": {},
     "output_type": "execute_result"
    }
   ],
   "source": [
    "x"
   ]
  },
  {
   "cell_type": "code",
   "execution_count": 85,
   "id": "f728e927-5f52-4df0-a6d1-2c08214036d7",
   "metadata": {},
   "outputs": [
    {
     "data": {
      "text/plain": [
       "True"
      ]
     },
     "execution_count": 85,
     "metadata": {},
     "output_type": "execute_result"
    }
   ],
   "source": [
    "15 in x"
   ]
  },
  {
   "cell_type": "code",
   "execution_count": 86,
   "id": "ad83b087-bed5-4d1f-9f4e-36f6e4c87f96",
   "metadata": {},
   "outputs": [
    {
     "data": {
      "text/plain": [
       "True"
      ]
     },
     "execution_count": 86,
     "metadata": {},
     "output_type": "execute_result"
    }
   ],
   "source": [
    "250 not in x"
   ]
  },
  {
   "cell_type": "code",
   "execution_count": 87,
   "id": "b3d5055f-01d2-4384-a3db-699552d56eec",
   "metadata": {},
   "outputs": [
    {
     "data": {
      "text/plain": [
       "False"
      ]
     },
     "execution_count": 87,
     "metadata": {},
     "output_type": "execute_result"
    }
   ],
   "source": [
    "25 not in x"
   ]
  },
  {
   "cell_type": "code",
   "execution_count": null,
   "id": "0108602b-146d-4ab7-841c-6f6e363b1a3e",
   "metadata": {},
   "outputs": [],
   "source": []
  },
  {
   "cell_type": "code",
   "execution_count": 88,
   "id": "77e68c46-d2b1-49eb-b93b-13173b806ffd",
   "metadata": {},
   "outputs": [],
   "source": [
    "#loop"
   ]
  },
  {
   "cell_type": "code",
   "execution_count": 89,
   "id": "98cf124f-82ac-4e51-8e85-aa956e7762dd",
   "metadata": {},
   "outputs": [
    {
     "data": {
      "text/plain": [
       "(10, 15, 16, 4, 8, 15, 2, 6, 7, 9, 15)"
      ]
     },
     "execution_count": 89,
     "metadata": {},
     "output_type": "execute_result"
    }
   ],
   "source": [
    "r"
   ]
  },
  {
   "cell_type": "code",
   "execution_count": 90,
   "id": "80ee887e-e669-43af-864b-5a5bfa2c8e57",
   "metadata": {},
   "outputs": [
    {
     "name": "stdout",
     "output_type": "stream",
     "text": [
      "10\n",
      "15\n",
      "16\n",
      "4\n",
      "8\n",
      "15\n",
      "2\n",
      "6\n",
      "7\n",
      "9\n",
      "15\n"
     ]
    }
   ],
   "source": [
    "for i in r:\n",
    "    print(i)"
   ]
  },
  {
   "cell_type": "code",
   "execution_count": 101,
   "id": "bacf5933-fc43-4275-a313-13e7319ec8eb",
   "metadata": {},
   "outputs": [],
   "source": [
    "# list as a reference"
   ]
  },
  {
   "cell_type": "code",
   "execution_count": 105,
   "id": "c74f04a2-2a6c-48e4-8d8a-30e88f28acbb",
   "metadata": {},
   "outputs": [],
   "source": [
    "lst = [\"python\", \"science\", \"maths\", \"electroincs\"]"
   ]
  },
  {
   "cell_type": "code",
   "execution_count": 106,
   "id": "0c5274aa-3978-4299-989a-8a1f0379df6f",
   "metadata": {},
   "outputs": [],
   "source": [
    "tup = (10, 20, 30, lst , 78, 96, 14)"
   ]
  },
  {
   "cell_type": "code",
   "execution_count": 107,
   "id": "92fe6d2f-0f62-4cb5-a536-1779e39977cd",
   "metadata": {},
   "outputs": [
    {
     "data": {
      "text/plain": [
       "(10, 20, 30, ['python', 'science', 'maths', 'electroincs'], 78, 96, 14)"
      ]
     },
     "execution_count": 107,
     "metadata": {},
     "output_type": "execute_result"
    }
   ],
   "source": [
    "tup"
   ]
  },
  {
   "cell_type": "code",
   "execution_count": 97,
   "id": "3bf3e7f0-b560-4831-beb1-6d1eaafa0782",
   "metadata": {},
   "outputs": [],
   "source": [
    "tup[3][1]  = \"sql\""
   ]
  },
  {
   "cell_type": "code",
   "execution_count": 98,
   "id": "70547c1a-ad41-4bfd-b370-29cdca494183",
   "metadata": {},
   "outputs": [
    {
     "data": {
      "text/plain": [
       "(10, 20, 30, ['python', 'sql', 'maths', 'electroincs'], 78, 96, 14)"
      ]
     },
     "execution_count": 98,
     "metadata": {},
     "output_type": "execute_result"
    }
   ],
   "source": [
    "tup"
   ]
  },
  {
   "cell_type": "code",
   "execution_count": 100,
   "id": "f9e9f070-26bd-4f0e-8806-5dc7079e52b1",
   "metadata": {},
   "outputs": [
    {
     "ename": "TypeError",
     "evalue": "'tuple' object does not support item assignment",
     "output_type": "error",
     "traceback": [
      "\u001b[1;31m---------------------------------------------------------------------------\u001b[0m",
      "\u001b[1;31mTypeError\u001b[0m                                 Traceback (most recent call last)",
      "Cell \u001b[1;32mIn[100], line 1\u001b[0m\n\u001b[1;32m----> 1\u001b[0m tup[\u001b[38;5;241m3\u001b[39m] \u001b[38;5;241m=\u001b[39m \u001b[38;5;124m\"\u001b[39m\u001b[38;5;124msst\u001b[39m\u001b[38;5;124m\"\u001b[39m\n",
      "\u001b[1;31mTypeError\u001b[0m: 'tuple' object does not support item assignment"
     ]
    }
   ],
   "source": [
    "tup[3] = \"sst\""
   ]
  },
  {
   "cell_type": "code",
   "execution_count": null,
   "id": "7e003462-888c-4008-a7d3-b51c0254a965",
   "metadata": {},
   "outputs": [],
   "source": []
  }
 ],
 "metadata": {
  "kernelspec": {
   "display_name": "Python 3 (ipykernel)",
   "language": "python",
   "name": "python3"
  },
  "language_info": {
   "codemirror_mode": {
    "name": "ipython",
    "version": 3
   },
   "file_extension": ".py",
   "mimetype": "text/x-python",
   "name": "python",
   "nbconvert_exporter": "python",
   "pygments_lexer": "ipython3",
   "version": "3.12.4"
  }
 },
 "nbformat": 4,
 "nbformat_minor": 5
}
